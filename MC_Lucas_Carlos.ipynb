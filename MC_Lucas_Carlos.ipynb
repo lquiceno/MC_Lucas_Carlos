{
 "cells": [
  {
   "cell_type": "markdown",
   "metadata": {
    "colab_type": "text",
    "id": "l2Kx9iqQ4ToX"
   },
   "source": [
    "# With this notebook we will:\n",
    "## 1. Install packages needed for root\n",
    "## 2. Download a binary root that compiled in google drive \"colaboratory\" environement\n",
    "## 3. Modify the PATH in order to tell python where to look for pyROOT\n",
    "## 4. Finally, test ROOT installation with a simple example\n",
    "\n",
    "##### Author: Jose Ruiz\n",
    "##### Maintainer: Jose Ruiz\n",
    "##### Developed at: Universidad de Antioquia\n"
   ]
  },
  {
   "cell_type": "markdown",
   "metadata": {
    "colab_type": "text",
    "id": "C1gPEaTg6fLl"
   },
   "source": [
    "### 1. Install packages needed for root"
   ]
  },
  {
   "cell_type": "code",
   "execution_count": null,
   "metadata": {
    "colab": {
     "base_uri": "https://localhost:8080/",
     "height": 1000
    },
    "colab_type": "code",
    "id": "gYEA4UKNplb6",
    "outputId": "55284c7b-6560-483e-867d-56572519878a"
   },
   "outputs": [
    {
     "name": "stdout",
     "output_type": "stream",
     "text": [
      "Reading package lists... Done\n",
      "Building dependency tree       \n",
      "Reading state information... Done\n",
      "libxext-dev is already the newest version (2:1.3.3-1).\n",
      "libxext-dev set to manually installed.\n",
      "libxft-dev is already the newest version (2.3.2-1).\n",
      "cmake is already the newest version (3.10.2-1ubuntu2.18.04.1).\n",
      "dpkg-dev is already the newest version (1.19.0.5ubuntu2.3).\n",
      "dpkg-dev set to manually installed.\n",
      "g++ is already the newest version (4:7.4.0-1ubuntu2.3).\n",
      "g++ set to manually installed.\n",
      "gcc is already the newest version (4:7.4.0-1ubuntu2.3).\n",
      "gcc set to manually installed.\n",
      "gfortran is already the newest version (4:7.4.0-1ubuntu2.3).\n",
      "git is already the newest version (1:2.17.1-1ubuntu0.7).\n",
      "libx11-dev is already the newest version (2:1.6.4-3ubuntu0.2).\n",
      "libx11-dev set to manually installed.\n",
      "tar is already the newest version (1.29b-2ubuntu0.1).\n",
      "The following package was automatically installed and is no longer required:\n",
      "  libnvidia-common-440\n",
      "Use 'apt autoremove' to remove it.\n",
      "The following additional packages will be installed:\n",
      "  binutils-common binutils-x86-64-linux-gnu libapr1 libaprutil1 libbinutils\n",
      "  libserf-1-1 libsvn1\n",
      "Suggested packages:\n",
      "  binutils-doc db5.3-util libapache2-mod-svn subversion-tools\n",
      "The following NEW packages will be installed:\n",
      "  libapr1 libaprutil1 libserf-1-1 libsvn1 libxpm-dev subversion\n",
      "The following packages will be upgraded:\n",
      "  binutils binutils-common binutils-x86-64-linux-gnu libbinutils\n",
      "4 upgraded, 6 newly installed, 0 to remove and 31 not upgraded.\n",
      "Need to get 4,851 kB of archives.\n",
      "After this operation, 10.1 MB of additional disk space will be used.\n",
      "Get:1 http://archive.ubuntu.com/ubuntu bionic-updates/main amd64 binutils-x86-64-linux-gnu amd64 2.30-21ubuntu1~18.04.3 [1,839 kB]\n",
      "Get:2 http://archive.ubuntu.com/ubuntu bionic-updates/main amd64 binutils-common amd64 2.30-21ubuntu1~18.04.3 [196 kB]\n",
      "Get:3 http://archive.ubuntu.com/ubuntu bionic-updates/main amd64 binutils amd64 2.30-21ubuntu1~18.04.3 [3,388 B]\n",
      "Get:4 http://archive.ubuntu.com/ubuntu bionic-updates/main amd64 libbinutils amd64 2.30-21ubuntu1~18.04.3 [488 kB]\n",
      "Get:5 http://archive.ubuntu.com/ubuntu bionic/main amd64 libapr1 amd64 1.6.3-2 [90.9 kB]\n",
      "Get:6 http://archive.ubuntu.com/ubuntu bionic/main amd64 libaprutil1 amd64 1.6.1-2 [84.4 kB]\n",
      "Get:7 http://archive.ubuntu.com/ubuntu bionic/universe amd64 libserf-1-1 amd64 1.3.9-6 [44.4 kB]\n",
      "Get:8 http://archive.ubuntu.com/ubuntu bionic/universe amd64 libsvn1 amd64 1.9.7-4ubuntu1 [1,183 kB]\n",
      "Get:9 http://archive.ubuntu.com/ubuntu bionic/main amd64 libxpm-dev amd64 1:3.5.12-1 [87.4 kB]\n",
      "Get:10 http://archive.ubuntu.com/ubuntu bionic/universe amd64 subversion amd64 1.9.7-4ubuntu1 [834 kB]\n",
      "Fetched 4,851 kB in 1s (4,706 kB/s)\n",
      "(Reading database ... 144465 files and directories currently installed.)\n",
      "Preparing to unpack .../0-binutils-x86-64-linux-gnu_2.30-21ubuntu1~18.04.3_amd64.deb ...\n",
      "Unpacking binutils-x86-64-linux-gnu (2.30-21ubuntu1~18.04.3) over (2.30-21ubuntu1~18.04.2) ...\n",
      "Preparing to unpack .../1-binutils-common_2.30-21ubuntu1~18.04.3_amd64.deb ...\n",
      "Unpacking binutils-common:amd64 (2.30-21ubuntu1~18.04.3) over (2.30-21ubuntu1~18.04.2) ...\n",
      "Preparing to unpack .../2-binutils_2.30-21ubuntu1~18.04.3_amd64.deb ...\n",
      "Unpacking binutils (2.30-21ubuntu1~18.04.3) over (2.30-21ubuntu1~18.04.2) ...\n",
      "Preparing to unpack .../3-libbinutils_2.30-21ubuntu1~18.04.3_amd64.deb ...\n",
      "Unpacking libbinutils:amd64 (2.30-21ubuntu1~18.04.3) over (2.30-21ubuntu1~18.04.2) ...\n",
      "Selecting previously unselected package libapr1:amd64.\n",
      "Preparing to unpack .../4-libapr1_1.6.3-2_amd64.deb ...\n",
      "Unpacking libapr1:amd64 (1.6.3-2) ...\n",
      "Selecting previously unselected package libaprutil1:amd64.\n",
      "Preparing to unpack .../5-libaprutil1_1.6.1-2_amd64.deb ...\n",
      "Unpacking libaprutil1:amd64 (1.6.1-2) ...\n",
      "Selecting previously unselected package libserf-1-1:amd64.\n",
      "Preparing to unpack .../6-libserf-1-1_1.3.9-6_amd64.deb ...\n",
      "Unpacking libserf-1-1:amd64 (1.3.9-6) ...\n",
      "Selecting previously unselected package libsvn1:amd64.\n",
      "Preparing to unpack .../7-libsvn1_1.9.7-4ubuntu1_amd64.deb ...\n",
      "Unpacking libsvn1:amd64 (1.9.7-4ubuntu1) ...\n",
      "Selecting previously unselected package libxpm-dev:amd64.\n",
      "Preparing to unpack .../8-libxpm-dev_1%3a3.5.12-1_amd64.deb ...\n",
      "Unpacking libxpm-dev:amd64 (1:3.5.12-1) ...\n",
      "Selecting previously unselected package subversion.\n",
      "Preparing to unpack .../9-subversion_1.9.7-4ubuntu1_amd64.deb ...\n",
      "Unpacking subversion (1.9.7-4ubuntu1) ...\n",
      "Setting up libapr1:amd64 (1.6.3-2) ...\n",
      "Setting up libxpm-dev:amd64 (1:3.5.12-1) ...\n",
      "Setting up binutils-common:amd64 (2.30-21ubuntu1~18.04.3) ...\n",
      "Setting up libaprutil1:amd64 (1.6.1-2) ...\n",
      "Setting up libbinutils:amd64 (2.30-21ubuntu1~18.04.3) ...\n",
      "Setting up libserf-1-1:amd64 (1.3.9-6) ...\n",
      "Setting up libsvn1:amd64 (1.9.7-4ubuntu1) ...\n",
      "Setting up binutils-x86-64-linux-gnu (2.30-21ubuntu1~18.04.3) ...\n",
      "Setting up subversion (1.9.7-4ubuntu1) ...\n",
      "Setting up binutils (2.30-21ubuntu1~18.04.3) ...\n",
      "Processing triggers for man-db (2.8.3-2ubuntu0.1) ...\n",
      "Processing triggers for libc-bin (2.27-3ubuntu1) ...\n",
      "/sbin/ldconfig.real: /usr/local/lib/python3.6/dist-packages/ideep4py/lib/libmkldnn.so.0 is not a symbolic link\n",
      "\n"
     ]
    }
   ],
   "source": [
    "!apt-get install git dpkg-dev cmake g++ gcc binutils libx11-dev libxpm-dev libxft-dev libxext-dev tar gfortran subversion"
   ]
  },
  {
   "cell_type": "markdown",
   "metadata": {
    "colab_type": "text",
    "id": "3i5bTy4x601V"
   },
   "source": [
    "### 2. Mount the drive to get the root binary and untar it "
   ]
  },
  {
   "cell_type": "code",
   "execution_count": null,
   "metadata": {
    "colab": {
     "base_uri": "https://localhost:8080/",
     "height": 34
    },
    "colab_type": "code",
    "id": "gMhjqJ9noRcX",
    "outputId": "39df33c1-9efc-4d92-c5d1-e1e501a93f08"
   },
   "outputs": [
    {
     "name": "stdout",
     "output_type": "stream",
     "text": [
      "Drive already mounted at /content/drive; to attempt to forcibly remount, call drive.mount(\"/content/drive\", force_remount=True).\n"
     ]
    }
   ],
   "source": [
    "# Load the Drive helper and mount\n",
    "from google.colab import drive\n",
    "\n",
    "# This will prompt for authorization.\n",
    "drive.mount('/content/drive')"
   ]
  },
  {
   "cell_type": "code",
   "execution_count": null,
   "metadata": {
    "colab": {
     "base_uri": "https://localhost:8080/",
     "height": 170
    },
    "colab_type": "code",
    "id": "dt2PEUjQo0RY",
    "outputId": "7cdffcbf-558c-4037-a86f-06642826bed8"
   },
   "outputs": [
    {
     "name": "stdout",
     "output_type": "stream",
     "text": [
      "BasicAnalysis.ipynb\t  FLUTEMI.WAV\n",
      "BasicPyROOTExample.ipynb  HistogrammingInROOT.ipynb\n",
      "Chi2Fitting.ipynb\t  MCSimpleIntegrator.ipynb\n",
      "Data5.root\t\t  monje-a-lo-bonzo-blanco-y-negro.png\n",
      "DatosParcial2\t\t  piano-C5.wav\n",
      "DatosProyectoMontecarlo   root_build_google_yikes.tar\n",
      "DatosResonancia.root\t  TrimmedTree.root\n",
      "FFT_imagen.ipynb\t  TTreeExcercise.ipynb\n",
      "FFT.ipynb\n"
     ]
    }
   ],
   "source": [
    "# After executing the cell above, Drive\n",
    "# files will be present in \"/content/drive/My Drive\".\n",
    "!ls \"/content/drive/Shared drives/PyROOT_in_Google\""
   ]
  },
  {
   "cell_type": "code",
   "execution_count": null,
   "metadata": {
    "colab": {},
    "colab_type": "code",
    "id": "tRQGlQ4Hqau9"
   },
   "outputs": [],
   "source": [
    "!tar -xf /content/drive/Shared\\ drives/PyROOT_in_Google/root_build_google_yikes.tar"
   ]
  },
  {
   "cell_type": "code",
   "execution_count": null,
   "metadata": {
    "colab": {
     "base_uri": "https://localhost:8080/",
     "height": 1000
    },
    "colab_type": "code",
    "id": "DfLQ4DrprjLU",
    "outputId": "55403b6b-c637-4774-db9e-5b28f99e9bc3"
   },
   "outputs": [
    {
     "name": "stdout",
     "output_type": "stream",
     "text": [
      "total 2.6M\n",
      "-rw-r--r--  1 root root   70 Sep 20  2018 recmake_replay.sh\n",
      "-rw-r--r--  1 root root   70 Sep 20  2018 recmake_initial.sh\n",
      "drwxr-xr-x  4 root root 4.0K Sep 20  2018 PCRE-prefix\n",
      "drwxr-xr-x  4 root root 4.0K Sep 20  2018 LZMA-prefix\n",
      "drwxr-xr-x  5 root root 4.0K Sep 20  2018 builtins\n",
      "drwxr-xr-x  4 root root 4.0K Sep 20  2018 AFTERIMAGE-prefix\n",
      "drwxr-xr-x  4 root root 4.0K Sep 20  2018 VDT-prefix\n",
      "drwxr-xr-x  4 root root 4.0K Sep 20  2018 TBB-prefix\n",
      "-rw-rw-r--  1 root root  718 Sep 20  2018 ROOTUseFile.cmake\n",
      "-rw-rw-r--  1 root root  597 Sep 20  2018 ROOTConfig-version.cmake\n",
      "-rw-rw-r--  1 root root 6.3K Sep 20  2018 ROOTConfig.cmake\n",
      "drwxr-xr-x  2 root root 4.0K Sep 20  2018 config\n",
      "-rw-rw-r--  1 root root  55K Sep 20  2018 root-help.el\n",
      "-rw-rw-r--  1 root root 2.1K Sep 20  2018 README.txt\n",
      "-rw-rw-r--  1 root root  847 Sep 20  2018 LICENSE.txt\n",
      "-rw-rw-r--  1 root root  24K Sep 20  2018 LGPL2_1.txt\n",
      "drwxr-xr-x  2 root root 4.0K Sep 20  2018 installtree\n",
      "-rw-rw-r--  1 root root 1.6K Sep 20  2018 CTestCustom.cmake\n",
      "-rw-r--r--  1 root root 5.2K Sep 20  2018 CPackSourceConfig.cmake\n",
      "-rw-r--r--  1 root root  12K Sep 20  2018 CPackConfig.cmake\n",
      "-rw-rw-r--  1 root root 1.7K Sep 20  2018 CMakeCPackOptions.cmake\n",
      "-rw-r--r--  1 root root 126K Sep 20  2018 CMakeCache.txt\n",
      "-rw-r--r--  1 root root 302K Sep 20  2018 Makefile\n",
      "drwxr-xr-x  4 root root 4.0K Sep 20  2018 interpreter\n",
      "-rw-r--r--  1 root root  12K Sep 20  2018 cmake_install.cmake\n",
      "drwxr-xr-x  7 root root 4.0K Sep 20  2018 tree\n",
      "drwxr-xr-x 16 root root 4.0K Sep 20  2018 math\n",
      "drwxr-xr-x  8 root root 4.0K Sep 20  2018 io\n",
      "drwxr-xr-x  9 root root 4.0K Sep 20  2018 hist\n",
      "drwxr-xr-x  3 root root 4.0K Sep 20  2018 build\n",
      "drwxr-xr-x  6 root root 4.0K Sep 20  2018 tmva\n",
      "drwxr-xr-x  3 root root 4.0K Sep 20  2018 sql\n",
      "drwxr-xr-x  3 root root 4.0K Sep 20  2018 rootx\n",
      "-rw-r--r--  1 root root  57K Sep 20  2018 ROOTConfig-targets.cmake\n",
      "drwxr-xr-x  7 root root 4.0K Sep 20  2018 roofit\n",
      "drwxr-xr-x  7 root root 4.0K Sep 20  2018 proof\n",
      "drwxr-xr-x  9 root root 4.0K Sep 20  2018 net\n",
      "drwxr-xr-x  5 root root 4.0K Sep 20  2018 montecarlo\n",
      "drwxr-xr-x  3 root root 4.0K Sep 20  2018 misc\n",
      "drwxr-xr-x  3 root root 4.0K Sep 20  2018 main\n",
      "drwxr-xr-x 10 root root 4.0K Sep 20  2018 gui\n",
      "drwxr-xr-x  5 root root 4.0K Sep 20  2018 graf3d\n",
      "drwxr-xr-x 10 root root 4.0K Sep 20  2018 graf2d\n",
      "drwxr-xr-x  7 root root 4.0K Sep 20  2018 geom\n",
      "-rw-r--r--  1 root root 1.8M Sep 20  2018 compile_commands.json\n",
      "drwxr-xr-x  4 root root 4.0K Sep 20  2018 bindings\n",
      "drwxr-xr-x  5 root root 4.0K Sep 20  2018 share\n",
      "drwxr-xr-x  3 root root 4.0K Sep 20  2018 README\n",
      "-rw-rw-r--  1 root root  847 Sep 20  2018 LICENSE\n",
      "drwxr-xr-x 11 root root 4.0K Sep 20  2018 test\n",
      "drwxr-xr-x  2 root root  20K Sep 20  2018 icons\n",
      "drwxr-xr-x  2 root root 4.0K Sep 20  2018 macros\n",
      "drwxr-xr-x  2 root root 4.0K Sep 20  2018 fonts\n",
      "-rw-r--r--  1 root root  134 Sep 20  2018 RGitCommit.h.tmp\n",
      "drwxr-xr-x 14 root root  44K Sep 20  2018 include\n",
      "drwxr-xr-x 22 root root 4.0K Sep 20  2018 core\n",
      "drwxr-xr-x  3 root root 4.0K Sep 20  2018 html\n",
      "drwxr-xr-x 12 root root 4.0K Sep 20  2018 etc\n",
      "drwxr-xr-x 49 root root 4.0K Sep 20  2018 tutorials\n",
      "drwxr-xr-x  6 root root  12K Sep 20  2018 lib\n",
      "drwxr-xr-x 19 root root 4.0K Sep 20  2018 CMakeFiles\n",
      "drwxr-xr-x  2 root root 4.0K Sep 20  2018 bin\n"
     ]
    }
   ],
   "source": [
    "!ls -ltrh root_build/"
   ]
  },
  {
   "cell_type": "markdown",
   "metadata": {
    "colab_type": "text",
    "id": "1nHFk9y68VVP"
   },
   "source": [
    "\n",
    "### 3. Modify the PATH in order to tell python where to look for pyROOT\n"
   ]
  },
  {
   "cell_type": "code",
   "execution_count": null,
   "metadata": {
    "colab": {},
    "colab_type": "code",
    "id": "N3ndoY6iu6_J"
   },
   "outputs": [],
   "source": [
    "import sys\n",
    "sys.path.append(\"/content/root_build/\")\n",
    "sys.path.append(\"/content/root_build/bin/\")\n",
    "sys.path.append(\"/content/root_build/include/\")\n",
    "sys.path.append(\"/content/root_build/lib/\")"
   ]
  },
  {
   "cell_type": "code",
   "execution_count": null,
   "metadata": {
    "colab": {
     "base_uri": "https://localhost:8080/",
     "height": 34
    },
    "colab_type": "code",
    "id": "S5oryMVlK_TF",
    "outputId": "4d677e02-0f66-4432-fd8c-c0ae0f986a6f"
   },
   "outputs": [
    {
     "name": "stdout",
     "output_type": "stream",
     "text": [
      "Welcome to JupyROOT 6.14/04\n"
     ]
    }
   ],
   "source": [
    "#importo paqueterias\n",
    "import ROOT \n",
    "import numpy as np\n",
    "from random import random \n",
    "from scipy import integrate\n",
    "import matplotlib.pyplot as plt"
   ]
  },
  {
   "cell_type": "markdown",
   "metadata": {
    "colab_type": "text",
    "id": "T33_3Ad08kEA"
   },
   "source": [
    "# We made it!!! :)"
   ]
  },
  {
   "cell_type": "code",
   "execution_count": null,
   "metadata": {
    "colab": {
     "base_uri": "https://localhost:8080/",
     "height": 34
    },
    "colab_type": "code",
    "id": "5W-HPKhZk_Nv",
    "outputId": "5751743d-f87a-46fe-d9d3-7fbd93b32a98"
   },
   "outputs": [
    {
     "data": {
      "text/plain": [
       "1"
      ]
     },
     "execution_count": 8,
     "metadata": {
      "tags": []
     },
     "output_type": "execute_result"
    }
   ],
   "source": [
    "DataChain_C=ROOT.TChain(\"SystemTree\") #leer los datos que se encuentra en el drive \n",
    "DataChain_L=ROOT.TChain(\"SystemTree\") #leer los datos que se encuentra en el drive \n",
    "DataChain_C.Add(\"/content/drive/My Drive/CarlosAndresBetancur.root\") #datos Carlos Betancur.ROOT\n",
    "DataChain_L.Add(\"/content/drive/My Drive/LucasHernanQuiceno.root\") #datos Lucas Quiceno.ROOT\n"
   ]
  },
  {
   "cell_type": "code",
   "execution_count": null,
   "metadata": {
    "colab": {
     "base_uri": "https://localhost:8080/",
     "height": 51
    },
    "colab_type": "code",
    "id": "iUEHg7a3KoS7",
    "outputId": "fc9999b7-e36b-4620-cd81-9847500da63e"
   },
   "outputs": [
    {
     "name": "stdout",
     "output_type": "stream",
     "text": [
      "Analizaremos  80000  eventos en los datos de Carlos\n",
      "Analizaremos  85000  eventos en los datos de Lucas\n"
     ]
    }
   ],
   "source": [
    "NumberOfEventsToCheck_C=DataChain_C.GetEntries() #verificar cuantos datsose va a analizar\n",
    "NumberOfEventsToCheck_L=DataChain_L.GetEntries() #verificar cuantos datsose va a analzar\n",
    "print(\"Analizaremos \",NumberOfEventsToCheck_C, \" eventos en los datos de Carlos\")\n",
    "print(\"Analizaremos \",NumberOfEventsToCheck_L, \" eventos en los datos de Lucas\")"
   ]
  },
  {
   "cell_type": "markdown",
   "metadata": {
    "colab_type": "text",
    "id": "8ItdfARfP82i"
   },
   "source": [
    "Primero se realiza un histograma de la variable x que corresponde a los eventos generados"
   ]
  },
  {
   "cell_type": "code",
   "execution_count": null,
   "metadata": {
    "colab": {
     "base_uri": "https://localhost:8080/",
     "height": 1000
    },
    "colab_type": "code",
    "id": "vq781BMHvn8k",
    "outputId": "b6e47025-5e02-4ae2-8d2c-c5f32dea76c1"
   },
   "outputs": [
    {
     "name": "stdout",
     "output_type": "stream",
     "text": [
      "<ROOT.TH1F object (\"Hist\") at 0x78c7c00>\n",
      "<ROOT.TH1F object (\"Hist\") at 0x78bb000>\n"
     ]
    },
    {
     "name": "stderr",
     "output_type": "stream",
     "text": [
      "Warning in <TROOT::Append>: Replacing existing TH1: Hist (Potential memory leak).\n"
     ]
    },
    {
     "data": {
      "image/png": "[encoded data removed]",
      "text/plain": [
       "<IPython.core.display.Image object>"
      ]
     },
     "metadata": {
      "tags": []
     },
     "output_type": "display_data"
    },
    {
     "data": {
      "image/png": "[encoded data removed]",
      "text/plain": [
       "<IPython.core.display.Image object>"
      ]
     },
     "metadata": {
      "tags": []
     },
     "output_type": "display_data"
    }
   ],
   "source": [
    "Histograma_C = ROOT.TH1F( 'Hist', 'Datos Carlos', 1000, 0 , 1500 ) #crear histograma\n",
    "Histograma_L = ROOT.TH1F( 'Hist', 'Datos Lucas', 1000, 0 , 1500 ) #crear histograma\n",
    "\n",
    "for entry in DataChain_C:\n",
    "  var_C=entry.x\n",
    "  Histograma_C.Fill(var_C)\n",
    "\n",
    "for entry in DataChain_L:\n",
    "  var_L=entry.x\n",
    "  Histograma_L.Fill(var_L)\n",
    "\n",
    "c1 = ROOT.TCanvas( 'c1', 'The FillRandom example', 200, 10, 700, 900 )\n",
    "c1.SetFillColor( 0 )\n",
    "Histograma_C.Draw()\n",
    "c1.Update()\n",
    "ROOT.gROOT.GetListOfCanvases().Draw()\n",
    "print(Histograma_C)\n",
    "\n",
    "c2 = ROOT.TCanvas( 'c2', 'The FillRandom example', 200, 10, 700, 900 )\n",
    "c2.SetFillColor( 0 )\n",
    "Histograma_L.Draw()\n",
    "c2.Update()\n",
    "ROOT.gROOT.GetListOfCanvases().Draw()\n",
    "print(Histograma_L)\n"
   ]
  },
  {
   "cell_type": "code",
   "execution_count": 74,
   "metadata": {
    "colab": {},
    "colab_type": "code",
    "id": "zwvxTI_yLGOd"
   },
   "outputs": [],
   "source": [
    "#Algoritmo de Metrópolis para el cual usamos ROOT.Math.Landau \n",
    "N_C=80000 #LONGITUD DATOS DE CARLOS\n",
    "N_L=85000 #LONGITUD DATOS DE LUCAS\n",
    "Cphi_l1=[] ; Cphi_l2=[] # LISTA PARA GUARDAR LOS ESTADOS DE CARLOS\n",
    "Lphi_l1=[] ; Lphi_l2=[] # LISTA PARA GUARDAR LOS ESTADOS DE LUCAS\n",
    "Ca=80 ; Cb=1500  # VALORES ENTRE LOS QUE ESTA EL HISTOGRAMA DE CARLOS\n",
    "La=100 ; Lb=1500  # VALORES ENTRE LOS QUE ESTA EL HISTOGRAMA DE LUCAS\n",
    "\n",
    "Cphi_01=(Cb-Ca)*random()+Ca ; Cphi_02=(Cb-Ca)*random()+Ca # GENERO EL ESTADO INICIAL PARA CARLOS\n",
    "Lphi_01=(Lb-La)*random()+La ; Lphi_02=(Lb-La)*random()+La # GENERO EL ESTADO INICIAL PARA LUCAS\n",
    "Cphi_l1.append(Cphi_01) ; Cphi_l2.append(Cphi_02) # AGREGO EL ESTADO INICIAL PARA CARLOS\n",
    "Lphi_l1.append(Lphi_01) ; Lphi_l2.append(Lphi_02) # AGREGO EL ESTADO INICIAL PARA LUCAS\n",
    "CMu=165.2 ;Ccu=116.7 # MEDIA Y VARIANZA DE LOS DATOS DE CARLOS \n",
    "LMu=230.6 ;Lcu=137.3 # MEDIA Y VARIANZA DE LOS DATOS DE LUCAS"
   ]
  },
  {
   "cell_type": "code",
   "execution_count": 75,
   "metadata": {
    "colab": {},
    "colab_type": "code",
    "id": "qmKR6xLioJOa"
   },
   "outputs": [],
   "source": [
    "# GENERAMOS LOS ESTADOS ALEATORIOS PRIMADOS (ALGORITMO DE METROPOLIS) PARA LOS DATOS DE CARLOS\n",
    "while ((len(Cphi_l1)+len(Cphi_l2))<N_C):\n",
    "\n",
    "    Cphi_p1=(Cb-Ca)*random()+Ca # ESTADO PRIMADO -> PASO 2 METROPOLIS\n",
    "    Cdelta_S1=-np.log(ROOT.TMath.Landau(Cphi_p1,CMu,Ccu,True)/ROOT.TMath.Landau(Cphi_l1[-1],CMu,Ccu,True)) # CALCULA EL DELTA -> PASO 3 DE METROPOLIS\n",
    "\n",
    "    Cphi_p2=(Cb-Ca)*random()+Ca # ESTADO PRIMADO -> PASO 2 METROPOLIS\n",
    "    Cdelta_S2=-np.log(ROOT.TMath.Landau(Cphi_p2,CMu,Ccu,True)/ROOT.TMath.Landau(Cphi_l2[-1],CMu,Ccu,True)) # CALCULA EL DELTA -> PASO 3 DE METROPOLIS\n",
    "\n",
    "    if Cdelta_S1<0 and Cdelta_S2<0: # CONDICIONAL CASO 1\n",
    "      Cphi_i1=Cphi_p1 # SI SE CUMPLE ENTONCES PHI1=PHI_PRIMADO PASO 4 DE METROPOLIS\n",
    "      Cphi_l1.append(Cphi_i1) # LO AGREGAMOS\n",
    "      if ((len(Cphi_l1)+len(Cphi_l2))>=N_C): # NO SE DEBEN SUPERAR LOS 80MIL\n",
    "          break # SI LO HACE ROMPA EL BUCLE\n",
    "      Cphi_i2=Cphi_p2 # SI NO HEMOS CONSEGUIDO LOS 80MIL ENTONCES PHI1=PHI_PRIMADO\n",
    "      Cphi_l2.append(Cphi_i2) # LO AGREGAMOS\n",
    "\n",
    "    if Cdelta_S1<0 and Cdelta_S2>0: # CONDICIONAL CASO 2\n",
    "      Cphi_i1=Cphi_p1 \n",
    "      Cphi_l1.append(Cphi_i1) \n",
    "      if ((len(Cphi_l1)+len(Cphi_l2))>=N_C): \n",
    "          break \n",
    "      Cr=random() # COMO DELTA2 > 0 ENTONCES GENERE UN NUMERO ALEATORIO PASO 5 DE METROPOLIS\n",
    "      CFRAC=ROOT.TMath.Landau(Cphi_p2,CMu,Ccu,True)/ROOT.TMath.Landau(Cphi_l2[-1],CMu,Ccu,True) # CALCULAMOS ESTE COCIENTE\n",
    "      if Cr<CFRAC:     # SI EL NUMERO ALEATORIO QUE GENERAMOS ES MENOR QUE EL COCIENTE ENTONCES\n",
    "        Cphi_i2=Cphi_p2 # AGREGUE EL ESTADO\n",
    "        Cphi_l2.append(Cphi_i2) # YA\n",
    "\n",
    "# IGUAL DE AQUI PARA ABAJO\n",
    "\n",
    "    if Cdelta_S1>0 and Cdelta_S2<0: # CONDICIONAL CASO 3\n",
    "      Cphi_i2=Cphi_p2\n",
    "      Cphi_l2.append(Cphi_i2)\n",
    "      if ((len(Cphi_l1)+len(Cphi_l2))>=N_C):\n",
    "          break\n",
    "      Cr=random()\n",
    "      CFRAC=ROOT.TMath.Landau(Cphi_p1,CMu,Ccu,True)/ROOT.TMath.Landau(Cphi_l1[-1],CMu,Ccu,True)\n",
    "      if Cr<CFRAC:\n",
    "        Cphi_i1=Cphi_p1\n",
    "        Cphi_l1.append(Cphi_i1)\n",
    "        \n",
    "    if Cdelta_S1>0 and Cdelta_S2>0: # CONDICIONAL CASO 4\n",
    "      Cr=random() ; Cro=random()\n",
    "      CFRAC=ROOT.TMath.Landau(Cphi_p1,CMu,Ccu,True)/ROOT.TMath.Landau(Cphi_l1[-1],CMu,Ccu,True)\n",
    "      CFRACo=ROOT.TMath.Landau(Cphi_p2,CMu,Ccu,True)/ROOT.TMath.Landau(Cphi_l2[-1],CMu,Ccu,True)\n",
    "\n",
    "      if Cro<CFRACo:\n",
    "        Cphi_i2=Cphi_p2\n",
    "        Cphi_l2.append(Cphi_i2)\n",
    "        if ((len(Cphi_l1)+len(Cphi_l2))>=N_C):\n",
    "          break\n",
    "      if Cr<CFRAC:\n",
    "        Cphi_i1=Cphi_p1\n",
    "        Cphi_l1.append(Cphi_i1)\n",
    "\n",
    "\n",
    "\n",
    "\n",
    "\n",
    "\n",
    "\n",
    "# GENERAMOS LOS ESTADOS ALEATORIOS PRIMADOS (ALGORITMO DE METROPOLIS) PARA LOS DATOS DE LUCAS\n",
    "while ((len(Lphi_l1)+len(Lphi_l2))<N_L):\n",
    "\n",
    "    Lphi_p1=(Lb-La)*random()+La # ESTADO PRIMADO -> PASO 2 METROPOLIS\n",
    "    Ldelta_S1=-np.log(ROOT.TMath.Landau(Lphi_p1,LMu,Lcu,True)/ROOT.TMath.Landau(Lphi_l1[-1],LMu,Lcu,True)) # CALCULA EL DELTA -> PASO 3 DE METROPOLIS\n",
    "\n",
    "    Lphi_p2=(Lb-La)*random()+La # ESTADO PRIMADO -> PASO 2 METROPOLIS\n",
    "    Ldelta_S2=-np.log(ROOT.TMath.Landau(Lphi_p2,LMu,Lcu,True)/ROOT.TMath.Landau(Lphi_l2[-1],LMu,Lcu,True)) # CALCULA EL DELTA -> PASO 3 DE METROPOLIS\n",
    "\n",
    "    if Ldelta_S1<0 and Ldelta_S2<0: # CONDICIONAL CASO 1\n",
    "      Lphi_i1=Lphi_p1 # SI SE CUMPLE ENTONCES PHI1=PHI_PRIMADO PASO 4 DE METROPOLIS\n",
    "      Lphi_l1.append(Lphi_i1) # LO AGREGAMOS\n",
    "      if ((len(Lphi_l1)+len(Lphi_l2))>=N_L): # NO SE DEBEN SUPERAR LOS 85MIL\n",
    "          break # SI LO HACE ROMPA EL BUCLE\n",
    "      Lphi_i2=Lphi_p2 # SI NO HEMOS CONSEGUIDO LOS 85MIL ENTONCES PHI1=PHI_PRIMADO\n",
    "      Lphi_l2.append(Lphi_i2) # LO AGREGAMOS\n",
    "\n",
    "    if Ldelta_S1<0 and Ldelta_S2>0: # CONDICIONAL CASO 2\n",
    "      Lphi_i1=Lphi_p1 \n",
    "      Lphi_l1.append(Lphi_i1) \n",
    "      if ((len(Lphi_l1)+len(Lphi_l2))>=N_L): \n",
    "          break \n",
    "      Lr=random() # COMO DELTA2 > 0 ENTONCES GENERE UN NUMERO ALEATORIO PASO 5 DE METROPOLIS\n",
    "      LFRAC=ROOT.TMath.Landau(Lphi_p2,LMu,Lcu,True)/ROOT.TMath.Landau(Lphi_l2[-1],LMu,Lcu,True) # CALCULAMOS ESTE COCIENTE\n",
    "      if Lr<LFRAC:     # SI EL NUMERO ALEATORIO QUE GENERAMOS ES MENOR QUE EL COCIENTE ENTONCES\n",
    "        Lphi_i2=Lphi_p2 # AGREGUE EL ESTADO\n",
    "        Lphi_l2.append(Lphi_i2) # YA\n",
    "\n",
    "# IGUAL DE AQUI PARA ABAJO\n",
    "\n",
    "    if Ldelta_S1>0 and Ldelta_S2<0: # CONDICIONAL CASO 3\n",
    "      Lphi_i2=Lphi_p2\n",
    "      Lphi_l2.append(Lphi_i2)\n",
    "      if ((len(Lphi_l1)+len(Lphi_l2))>=N_L):\n",
    "          break\n",
    "      Lr=random()\n",
    "      LFRAC=ROOT.TMath.Landau(Lphi_p1,LMu,Lcu,True)/ROOT.TMath.Landau(Lphi_l1[-1],LMu,Lcu,True)\n",
    "      if Lr<LFRAC:\n",
    "        Lphi_i1=Lphi_p1\n",
    "        Lphi_l1.append(Lphi_i1)\n",
    "        \n",
    "    if Ldelta_S1>0 and Ldelta_S2>0: # CONDICIONAL CASO 4\n",
    "      Lr=random() ; Lro=random()\n",
    "      LFRAC=ROOT.TMath.Landau(Lphi_p1,LMu,Lcu,True)/ROOT.TMath.Landau(Lphi_l1[-1],LMu,Lcu,True)\n",
    "      LFRACo=ROOT.TMath.Landau(Lphi_p2,LMu,Lcu,True)/ROOT.TMath.Landau(Lphi_l2[-1],LMu,Lcu,True)\n",
    "\n",
    "      if Lro<LFRACo:\n",
    "        Lphi_i2=Lphi_p2\n",
    "        Lphi_l2.append(Lphi_i2)\n",
    "        if ((len(Lphi_l1)+len(Lphi_l2))>=N_L):\n",
    "          break\n",
    "      if Lr<LFRAC:\n",
    "        Lphi_i1=Lphi_p1\n",
    "        Lphi_l1.append(Lphi_i1)"
   ]
  },
  {
   "cell_type": "code",
   "execution_count": 76,
   "metadata": {
    "colab": {
     "base_uri": "https://localhost:8080/",
     "height": 1000
    },
    "colab_type": "code",
    "id": "chidhDMFKPmK",
    "outputId": "a847d85c-3a57-4378-c813-541f66552ac3"
   },
   "outputs": [
    {
     "name": "stdout",
     "output_type": "stream",
     "text": [
      "80000\n",
      "85000\n"
     ]
    },
    {
     "data": {
      "image/png": "[encoded data removed]",
      "text/plain": [
       "<Figure size 432x288 with 1 Axes>"
      ]
     },
     "metadata": {
      "needs_background": "light",
      "tags": []
     },
     "output_type": "display_data"
    },
    {
     "data": {
      "image/png": "[encoded data removed]",
      "text/plain": [
       "<Figure size 432x288 with 1 Axes>"
      ]
     },
     "metadata": {
      "needs_background": "light",
      "tags": []
     },
     "output_type": "display_data"
    },
    {
     "name": "stderr",
     "output_type": "stream",
     "text": [
      "Warning in <TROOT::Append>: Replacing existing TH1: HistC (Potential memory leak).\n",
      "Warning in <TCanvas::Constructor>: Deleting canvas with same name: CARLOS\n",
      "Warning in <TROOT::Append>: Replacing existing TH1: HistL (Potential memory leak).\n",
      "Warning in <TCanvas::Constructor>: Deleting canvas with same name: LUCAS\n"
     ]
    },
    {
     "data": {
      "image/png": "[encoded data removed]",
      "text/plain": [
       "<IPython.core.display.Image object>"
      ]
     },
     "metadata": {
      "tags": []
     },
     "output_type": "display_data"
    },
    {
     "data": {
      "image/png": "[encoded data removed]",
      "text/plain": [
       "<IPython.core.display.Image object>"
      ]
     },
     "metadata": {
      "tags": []
     },
     "output_type": "display_data"
    }
   ],
   "source": [
    "#Histograma generado es:\n",
    "print(len(Cphi_l1)+len(Cphi_l2)) # VERIFICAMOS QUE ESTEN LOS 80MIL ESTADOS DE CARLOS\n",
    "print(len(Lphi_l1)+len(Lphi_l2)) # VERIFICAMOS QUE ESTEN LOS 85MIL ESTADOS DE LUCAS\n",
    "\n",
    "Cphi=Cphi_l1+Cphi_l2 # SUMAMOS LOS ESTADOS DE CARLOS \n",
    "Lphi=Lphi_l1+Lphi_l2 # SUMAMOS LOS ESTADOS DE LUCAS\n",
    "\n",
    "plt.hist(Cphi,bins=500) # GRAFICAMOS EL HISTOGRAMA DE CARLOS\n",
    "plt.show()\n",
    "HistC= ROOT.TH1F( 'HistC', 'Histograma Carlos', 1000, 0 , 1500 )\n",
    "for i in Cphi:\n",
    "  HistC.Fill(i)\n",
    "c1 = ROOT.TCanvas( 'CARLOS', 'The FillRandom example', 200, 10, 700, 900 )\n",
    "c1.SetFillColor( 0 )\n",
    "HistC.Draw()\n",
    "c1.Update()\n",
    "ROOT.gROOT.GetListOfCanvases().Draw()\n",
    "\n",
    "plt.hist(Lphi,bins=500) # GRAFICAMOS EL HISTOGRAMA DE LUCAS\n",
    "plt.show()\n",
    "HistL= ROOT.TH1F( 'HistL', 'Histograma LUCAS', 1000, 0 , 1500 )\n",
    "for i in Lphi:\n",
    "  HistL.Fill(i)\n",
    "c2 = ROOT.TCanvas( 'LUCAS', 'The FillRandom example', 200, 10, 700, 900 )\n",
    "c2.SetFillColor( 0 )\n",
    "HistL.Draw()\n",
    "c2.Update()\n",
    "ROOT.gROOT.GetListOfCanvases().Draw()"
   ]
  },
  {
   "cell_type": "code",
   "execution_count": 77,
   "metadata": {
    "colab": {
     "base_uri": "https://localhost:8080/",
     "height": 85
    },
    "colab_type": "code",
    "id": "-iq6GAorKYx4",
    "outputId": "54d8f40f-8125-4d8c-ec35-cfd71a6be9a2"
   },
   "outputs": [
    {
     "name": "stdout",
     "output_type": "stream",
     "text": [
      "Carlos mu [155.         161.66666667 168.33333333 175.        ]\n",
      "Carlos c [10.         13.33333333 16.66666667 20.        ]\n",
      "Lucas mu [220.         226.66666667 233.33333333 240.        ]\n",
      "Lucas c [10.         13.33333333 16.66666667 20.        ]\n"
     ]
    }
   ],
   "source": [
    "#Vamos a buscar los mejores valores de mu y c\n",
    "#Generemos primero diferentes valores de mu y c\n",
    "# N=80000 \n",
    "CALLX=[] ; CALLY=[] #En este veré los valores de MU y C PARA CARLOS\n",
    "LALLX=[] ; LALLY=[] #En este veré los valores de MU y C PARA LUCAS\n",
    "# a=80 ; b=1500\n",
    "\n",
    "CMU=np.linspace(155,175,4) # INTERVALO\n",
    "CC=np.linspace(10,20,4) # INTERVALO\n",
    "print(\"Carlos mu\",CMU)\n",
    "print(\"Carlos c\",CC)\n",
    "LMU=np.linspace(220,240,4) # INTERVALO\n",
    "LC=np.linspace(10,20,4) # INTERVALO\n",
    "print(\"Lucas mu\",LMU)\n",
    "print(\"Lucas c\",LC)"
   ]
  },
  {
   "cell_type": "code",
   "execution_count": 78,
   "metadata": {
    "colab": {
     "base_uri": "https://localhost:8080/",
     "height": 119
    },
    "colab_type": "code",
    "id": "GiZ0FYCueC4S",
    "outputId": "76cdfc31-925b-4a8d-ebde-5c98dedbce26"
   },
   "outputs": [
    {
     "name": "stderr",
     "output_type": "stream",
     "text": [
      "/usr/local/lib/python3.6/dist-packages/ipykernel_launcher.py:13: RuntimeWarning: divide by zero encountered in log\n",
      "  del sys.path[0]\n",
      "/usr/local/lib/python3.6/dist-packages/ipykernel_launcher.py:16: RuntimeWarning: divide by zero encountered in log\n",
      "  app.launch_new_instance()\n",
      "/usr/local/lib/python3.6/dist-packages/ipykernel_launcher.py:79: RuntimeWarning: divide by zero encountered in log\n",
      "/usr/local/lib/python3.6/dist-packages/ipykernel_launcher.py:76: RuntimeWarning: divide by zero encountered in log\n"
     ]
    }
   ],
   "source": [
    "#Aplicamos ahora metrópolis pero variando el mu y c PARA CARLOS\n",
    "\n",
    "for j in CMU:\n",
    "  for k in CC:\n",
    "    Cphi_l1=[]\n",
    "    Cphi_l2=[]\n",
    "    Cphi_01=(Cb-Ca)*random()+Ca\n",
    "    Cphi_02=(Cb-Ca)*random()+Ca\n",
    "    Cphi_l1.append(Cphi_01)\n",
    "    Cphi_l2.append(Cphi_02)\n",
    "    while ((len(Cphi_l1)+len(Cphi_l2))<N_C):\n",
    "      Cphi_p1=(Cb-Ca)*random()+Ca\n",
    "      Cdelta_S1=-np.log(ROOT.TMath.Landau(Cphi_p1,j,k,True)/ROOT.TMath.Landau(Cphi_l1[-1],j,k,True))\n",
    "\n",
    "      Cphi_p2=(Cb-Ca)*random()+Ca\n",
    "      Cdelta_S2=-np.log(ROOT.TMath.Landau(Cphi_p2,j,k,True)/ROOT.TMath.Landau(Cphi_l2[-1],j,k,True))\n",
    "\n",
    "      if Cdelta_S1<0 and Cdelta_S2<0:\n",
    "        Cphi_i1=Cphi_p1\n",
    "        Cphi_l1.append(Cphi_i1)\n",
    "        if ((len(Cphi_l1)+len(Cphi_l2))>=N_C):\n",
    "          break\n",
    "        Cphi_i2=Cphi_p2\n",
    "        Cphi_l2.append(Cphi_i2)\n",
    "      if Cdelta_S1<0 and Cdelta_S2>0:\n",
    "        Cphi_i1=Cphi_p1\n",
    "        Cphi_l1.append(Cphi_i1)\n",
    "        if ((len(Cphi_l1)+len(Cphi_l2))>=N_C):\n",
    "          break\n",
    "        Cr=random()\n",
    "        CFRAC=ROOT.TMath.Landau(Cphi_p2,j,k,True)/ROOT.TMath.Landau(Cphi_l2[-1],j,k,True)\n",
    "        if Cr<CFRAC:\n",
    "          Cphi_i2=Cphi_p2\n",
    "          Cphi_l2.append(Cphi_i2)\n",
    "      if Cdelta_S1>0 and Cdelta_S2<0:\n",
    "        Cphi_i2=Cphi_p2\n",
    "        Cphi_l2.append(Cphi_i2)\n",
    "        if ((len(Cphi_l1)+len(Cphi_l2))>=N_C):\n",
    "          break\n",
    "        Cr=random()\n",
    "        CFRAC=ROOT.TMath.Landau(Cphi_p1,j,k,True)/ROOT.TMath.Landau(Cphi_l1[-1],j,k,True)\n",
    "        if Cr<CFRAC:\n",
    "          Cphi_i1=Cphi_p1\n",
    "          Cphi_l1.append(Cphi_i1)\n",
    "      if Cdelta_S1>0 and Cdelta_S2>0:\n",
    "        Cr=random()\n",
    "        CFRAC=ROOT.TMath.Landau(Cphi_p1,j,k,True)/ROOT.TMath.Landau(Cphi_l1[-1],j,k,True)\n",
    "        Cro=random()\n",
    "        CFRACo=ROOT.TMath.Landau(Cphi_p2,j,k,True)/ROOT.TMath.Landau(Cphi_l2[-1],j,k,True)\n",
    "        if Cro<CFRACo:\n",
    "          Cphi_i2=Cphi_p2\n",
    "          Cphi_l2.append(Cphi_i2)\n",
    "          if ((len(Cphi_l1)+len(Cphi_l2))>=N_C):\n",
    "            break\n",
    "        if Cr<CFRAC:\n",
    "          Cphi_i1=Cphi_p1\n",
    "          Cphi_l1.append(Cphi_i1)\n",
    "    Cphi=Cphi_l1+Cphi_l2\n",
    "\n",
    "    CALLX.append(Cphi)\n",
    "    CALLY.append([j,k])\n",
    "\n",
    "\n",
    "#Aplicamos ahora metrópolis pero variando el mu y c PARA LUCAS\n",
    "\n",
    "for l in LMU:\n",
    "  for m in LC:\n",
    "    Lphi_l1=[]\n",
    "    Lphi_l2=[]\n",
    "    Lphi_01=(Lb-La)*random()+La\n",
    "    Lphi_02=(Lb-La)*random()+La\n",
    "    Lphi_l1.append(Lphi_01)\n",
    "    Lphi_l2.append(Lphi_02)\n",
    "    while ((len(Lphi_l1)+len(Lphi_l2))<N_L):\n",
    "      Lphi_p1=(Lb-La)*random()+La\n",
    "      Ldelta_S1=-np.log(ROOT.TMath.Landau(Lphi_p1,l,m,True)/ROOT.TMath.Landau(Lphi_l1[-1],l,m,True))\n",
    "\n",
    "      Lphi_p2=(Lb-La)*random()+La\n",
    "      Ldelta_S2=-np.log(ROOT.TMath.Landau(Lphi_p2,l,m,True)/ROOT.TMath.Landau(Lphi_l2[-1],l,m,True))\n",
    "\n",
    "      if Ldelta_S1<0 and Ldelta_S2<0:\n",
    "        Lphi_i1=Lphi_p1\n",
    "        Lphi_l1.append(Lphi_i1)\n",
    "        if ((len(Lphi_l1)+len(Lphi_l2))>=N_L):\n",
    "          break\n",
    "        Lphi_i2=Lphi_p2\n",
    "        Lphi_l2.append(Lphi_i2)\n",
    "      if Ldelta_S1<0 and Ldelta_S2>0:\n",
    "        Lphi_i1=Lphi_p1\n",
    "        Lphi_l1.append(Lphi_i1)\n",
    "        if ((len(Lphi_l1)+len(Lphi_l2))>=N_L):\n",
    "          break\n",
    "        Lr=random()\n",
    "        LFRAC=ROOT.TMath.Landau(Lphi_p2,l,m,True)/ROOT.TMath.Landau(Lphi_l2[-1],l,m,True)\n",
    "        if Lr<LFRAC:\n",
    "          Lphi_i2=Lphi_p2\n",
    "          Lphi_l2.append(Lphi_i2)\n",
    "      if Ldelta_S1>0 and Ldelta_S2<0:\n",
    "        Lphi_i2=Lphi_p2\n",
    "        Lphi_l2.append(Lphi_i2)\n",
    "        if ((len(Lphi_l1)+len(Lphi_l2))>=N_L):\n",
    "          break\n",
    "        Lr=random()\n",
    "        LFRAC=ROOT.TMath.Landau(Lphi_p1,l,m,True)/ROOT.TMath.Landau(Lphi_l1[-1],l,m,True)\n",
    "        if Lr<LFRAC:\n",
    "          Lphi_i1=Lphi_p1\n",
    "          Lphi_l1.append(Lphi_i1)\n",
    "      if Ldelta_S1>0 and Ldelta_S2>0:\n",
    "        Lr=random()\n",
    "        LFRAC=ROOT.TMath.Landau(Lphi_p1,l,m,True)/ROOT.TMath.Landau(Lphi_l1[-1],l,m,True)\n",
    "        Lro=random()\n",
    "        LFRACo=ROOT.TMath.Landau(Lphi_p2,l,m,True)/ROOT.TMath.Landau(Lphi_l2[-1],l,m,True)\n",
    "        if Lro<LFRACo:\n",
    "          Lphi_i2=Lphi_p2\n",
    "          Lphi_l2.append(Lphi_i2)\n",
    "          if ((len(Lphi_l1)+len(Lphi_l2))>=N_L):\n",
    "            break\n",
    "        if Lr<LFRAC:\n",
    "          Lphi_i1=Lphi_p1\n",
    "          Lphi_l1.append(Lphi_i1)\n",
    "    Lphi=Lphi_l1+Lphi_l2\n",
    "\n",
    "    LALLX.append(Lphi)\n",
    "    LALLY.append([l,m])\n",
    "        "
   ]
  },
  {
   "cell_type": "code",
   "execution_count": 82,
   "metadata": {
    "colab": {
     "base_uri": "https://localhost:8080/",
     "height": 105
    },
    "colab_type": "code",
    "id": "BuQb_LmnmRin",
    "outputId": "57c3cca7-afc7-4ad4-d6ab-3dd53335fe21"
   },
   "outputs": [
    {
     "name": "stdout",
     "output_type": "stream",
     "text": [
      "[43515.91836535385, 58540.79026080454, 54436.858991793546, 64429.05288469838, 58712.15707006523, 48327.85256753816, 65868.34206055253, 64933.05264891499, 54142.95548880962, 59728.375402423255, 55523.72618828257, 58200.00652134191, 68481.65449772934, 73972.99448060455, 61604.714009712516, 60572.23151205731]\n",
      "16\n",
      "[37931.57723998279, 37231.32815206906, 43523.82250932801, 59833.10483075332, 53834.017143289544, 42836.07387261587, 58266.112341925495, 55404.67260902004, 47549.71862220041, 54227.61086175908, 57167.3247784772, 48002.75047144808, 47915.51657022514, 45999.36768138529, 66091.61780104655, 55764.98390777678]\n",
      "16\n"
     ]
    }
   ],
   "source": [
    "#Para el chi-cuadrado: CARLOS\n",
    "CBin=Histograma_C.GetNbinsX()+1\n",
    "CFullChi2 = []\n",
    "for l in range(len(CALLX)):\n",
    "  Cchi2=0.0 \n",
    "  for z in range(CBin): \n",
    "    if Histograma_C.GetBinContent(z)!=0: #evitar division por cero\n",
    "      Cchi2+=((Histograma_C.GetBinContent(z)-CALLX[l][z])**2)/Histograma_C.GetBinContent(z) #chi^2=sum[(dato(i)-metropolis(i))^2/dato(i)] \n",
    "  Cchi2ndf=Cchi2/CBin \n",
    "  CFullChi2.append(Cchi2ndf)\n",
    "print(CFullChi2)\n",
    "print(len(CFullChi2))\n",
    "\n",
    "#Para el chi-cuadrado: LUCAS\n",
    "LBin=Histograma_L.GetNbinsX()+1\n",
    "LFullChi2 = []\n",
    "for l in range(len(LALLX)):\n",
    "  Lchi2=0.0 \n",
    "  for z in range(LBin): \n",
    "    if Histograma_L.GetBinContent(z)!=0: #evitar division por cero\n",
    "      Lchi2+=((Histograma_L.GetBinContent(z)-LALLX[l][z])**2)/Histograma_L.GetBinContent(z) #chi^2=sum[(dato(i)-metropolis(i))^2/dato(i)] \n",
    "  Lchi2ndf=Lchi2/LBin \n",
    "  LFullChi2.append(Lchi2ndf)\n",
    "print(LFullChi2)\n",
    "print(len(LFullChi2))\n"
   ]
  },
  {
   "cell_type": "code",
   "execution_count": 84,
   "metadata": {
    "colab": {
     "base_uri": "https://localhost:8080/",
     "height": 119
    },
    "colab_type": "code",
    "id": "Gc9uNYWPmkbK",
    "outputId": "085ffed4-8e71-4277-c275-512995574a64"
   },
   "outputs": [
    {
     "name": "stdout",
     "output_type": "stream",
     "text": [
      "minimo de chi^2 CARLOS: 43.51591836535385\n",
      "posicion CARLOS 0\n",
      "Los valores optimos de mu y c son:  [155.0, 10.0]\n",
      "minimo de chi^2 LUCAS: 37.23132815206906\n",
      "posicion LUCAS 1\n",
      "Los valores optimos de mu y c son:  [220.0, 13.333333333333334]\n"
     ]
    }
   ],
   "source": [
    "# buscamos el valor minimo de Chi2 y asi saber la posición mu y c corresponde. Ademas se divide por 1000 que es el número de bines\n",
    "Cmini=min(CFullChi2)\n",
    "Cpos=CFullChi2.index(Cmini)\n",
    "print(\"minimo de chi^2 CARLOS:\",Cmini/1000)\n",
    "print(\"posicion CARLOS\",Cpos) \n",
    "print(\"Los valores optimos de mu y c son: \",CALLY[0])\n",
    "\n",
    "# buscamos el valor minimo de Chi2 y asi saber la posición mu y c corresponde. Ademas se divide por 1000 que es el número de bines\n",
    "Lmini=min(LFullChi2)\n",
    "Lpos=LFullChi2.index(Lmini)\n",
    "print(\"minimo de chi^2 LUCAS:\",Lmini/1000)\n",
    "print(\"posicion LUCAS\",Lpos) \n",
    "print(\"Los valores optimos de mu y c son: \",LALLY[1])"
   ]
  },
  {
   "cell_type": "code",
   "execution_count": 88,
   "metadata": {
    "colab": {
     "base_uri": "https://localhost:8080/",
     "height": 1000
    },
    "colab_type": "code",
    "id": "15NqyhDEmsZP",
    "outputId": "4d8faa1f-53de-43c8-cf56-8a413fe93fb8"
   },
   "outputs": [
    {
     "name": "stdout",
     "output_type": "stream",
     "text": [
      "40020\n",
      "39980\n",
      "80000\n"
     ]
    },
    {
     "data": {
      "image/png": "[encoded data removed]",
      "text/plain": [
       "<Figure size 432x288 with 1 Axes>"
      ]
     },
     "metadata": {
      "needs_background": "light",
      "tags": []
     },
     "output_type": "display_data"
    },
    {
     "name": "stdout",
     "output_type": "stream",
     "text": [
      "42484\n",
      "42516\n",
      "85000\n"
     ]
    },
    {
     "data": {
      "image/png": "[encoded data removed]",
      "text/plain": [
       "<Figure size 432x288 with 1 Axes>"
      ]
     },
     "metadata": {
      "needs_background": "light",
      "tags": []
     },
     "output_type": "display_data"
    },
    {
     "name": "stderr",
     "output_type": "stream",
     "text": [
      "Warning in <TROOT::Append>: Replacing existing TH1: HistC (Potential memory leak).\n",
      "Warning in <TCanvas::Constructor>: Deleting canvas with same name: c1\n",
      "Warning in <TROOT::Append>: Replacing existing TH1: HistL (Potential memory leak).\n",
      "Warning in <TCanvas::Constructor>: Deleting canvas with same name: c2\n"
     ]
    },
    {
     "data": {
      "image/png": "[encoded data removed]",
      "text/plain": [
       "<IPython.core.display.Image object>"
      ]
     },
     "metadata": {
      "tags": []
     },
     "output_type": "display_data"
    },
    {
     "data": {
      "image/png": "[encoded data removed]",
      "text/plain": [
       "<IPython.core.display.Image object>"
      ]
     },
     "metadata": {
      "tags": []
     },
     "output_type": "display_data"
    }
   ],
   "source": [
    "##Superposición de histogramas CARLOS\n",
    "#Color rojo: Muestra generada\n",
    "#Color azul: Datos\n",
    "\n",
    "print(len(Cphi_l1))\n",
    "print(len(Cphi_l2))\n",
    "\n",
    "Cphi=Cphi_l1+Cphi_l2 \n",
    "print(len(Cphi))\n",
    "plt.hist(Cphi,bins=500)\n",
    "plt.show()\n",
    "HistC= ROOT.TH1F( 'HistC', 'SUPERPOSICION CARLOS', 1000, 0 , 1500 )\n",
    "for i in Cphi:\n",
    "  HistC.Fill(i)\n",
    "c1 = ROOT.TCanvas( 'c1', 'The FillRandom example', 200, 10, 700, 900 )\n",
    "c1.SetFillColor( 0 )\n",
    "HistC.Draw()\n",
    "Histograma_C.Draw('same')\n",
    "Histograma_C.SetLineColor(2)\n",
    "c1.Update()\n",
    "ROOT.gROOT.GetListOfCanvases().Draw()\n",
    "\n",
    "\n",
    "\n",
    "\n",
    "#Superposición de histogramas LUCAS\n",
    "#Color rojo: Muestra generada\n",
    "#Color azul: Datos\n",
    "\n",
    "print(len(Lphi_l1))\n",
    "print(len(Lphi_l2))\n",
    "\n",
    "Lphi=Lphi_l1+Lphi_l2 \n",
    "print(len(Lphi))\n",
    "plt.hist(Lphi,bins=500)\n",
    "plt.show()\n",
    "HistL= ROOT.TH1F( 'HistL', 'SUPERPOSICION LUCAS', 1000, 0 , 1500 )\n",
    "for i in Lphi:\n",
    "  HistL.Fill(i)\n",
    "c2 = ROOT.TCanvas( 'c2', 'The FillRandom example', 200, 10, 700, 900 )\n",
    "c2.SetFillColor( 0 )\n",
    "HistL.Draw()\n",
    "Histograma_L.Draw('same')\n",
    "Histograma_L.SetLineColor(2)\n",
    "c1.Update()\n",
    "ROOT.gROOT.GetListOfCanvases().Draw()\n",
    "\n",
    "\n"
   ]
  }
 ],
 "metadata": {
  "colab": {
   "collapsed_sections": [],
   "name": "MC_Lucas_Carlos.ipynb",
   "provenance": []
  },
  "kernelspec": {
   "display_name": "Python 3",
   "language": "python",
   "name": "python3"
  },
  "language_info": {
   "codemirror_mode": {
    "name": "ipython",
    "version": 3
   },
   "file_extension": ".py",
   "mimetype": "text/x-python",
   "name": "python",
   "nbconvert_exporter": "python",
   "pygments_lexer": "ipython3",
   "version": "3.7.4"
  }
 },
 "nbformat": 4,
 "nbformat_minor": 1
}
